{
 "cells": [
  {
   "cell_type": "code",
   "execution_count": null,
   "id": "14d2b011",
   "metadata": {},
   "outputs": [],
   "source": []
  },
  {
   "cell_type": "code",
   "execution_count": 35,
   "id": "03e56acf",
   "metadata": {},
   "outputs": [],
   "source": [
    "class relations:\n",
    "    \"\"\"\n",
    "    This class is used to store the relations and create\n",
    "    the dictionary sections of the json file\n",
    "    \"\"\"\n",
    "    def __init__(self, inp):\n",
    "        self.text = inp\n",
    "        self.src, self.tgt,self.direction = \"\", \"\", \"\"\n",
    "        self.title, self.authors = \"\",\"\"\n",
    "        self.year = -1\n",
    "        self.outer_dict = {\"text\": self.text,\n",
    "                           \"casual relations\": [{\"src\":self.src,\"tgt\":self.tgt,\"direction\":self.direction}], \n",
    "                           \"meta_data\": {\"title\":self.title,\"authors\":self.authors,\"year\":self.year}}\n",
    "        \n",
    "    def select_src(self):\n",
    "        \"\"\"Function will be developed with UI for the UI\"\"\"\n",
    "        pass\n",
    "    def change_src(self,inp):\n",
    "        self.outer_dict[\"casual relations\"][0][\"src\"] = inp\n",
    "        \n",
    "    def select_tgt(self):\n",
    "        \"\"\"Function will be developed with UI for the UI\"\"\"\n",
    "        pass\n",
    "    def change_tgt(self,inp):\n",
    "        self.outer_dict[\"casual relations\"][0][\"tgt\"] = inp\n",
    "    def select_direction(self):\n",
    "        \"\"\"Function will be developed with UI for the UI\"\"\"\n",
    "        pass\n",
    "    def change_direction(self,inp):\n",
    "        self.outer_dict[\"casual relations\"][0][\"direction\"] = inp\n",
    "    \n",
    "        "
   ]
  },
  {
   "cell_type": "code",
   "execution_count": 37,
   "id": "179468f3",
   "metadata": {},
   "outputs": [
    {
     "name": "stdout",
     "output_type": "stream",
     "text": [
      "Most fishermen observed an increase in recreational fishing in the wind farm area\n",
      "{'text': 'Most fishermen observed an increase in recreational fishing in the wind farm area', 'casual relations': [{'src': 'test', 'tgt': '', 'direction': ''}], 'meta_data': {'title': '', 'authors': '', 'year': -1}}\n",
      "Many fishermen felt that the wind farm functioned as a ‘structure’, ‘reef’ or a ‘fish aggregating device’ for fish to cluster around the turbines.\n",
      "{'text': 'Many fishermen felt that the wind farm functioned as a ‘structure’, ‘reef’ or a ‘fish aggregating device’ for fish to cluster around the turbines.', 'casual relations': [{'src': 'test', 'tgt': '', 'direction': ''}], 'meta_data': {'title': '', 'authors': '', 'year': -1}}\n"
     ]
    }
   ],
   "source": [
    "input_string = \"Most fishermen observed an increase in recreational fishing in the wind farm area. Many fishermen felt that the wind farm functioned as a \\u2018structure\\u2019, \\u2018reef\\u2019 or a \\u2018fish aggregating device\\u2019 for fish to cluster around the turbines.\"\n",
    "sentences = input_string.split(\". \")\n",
    "obj_holder = []\n",
    "for sentence in sentences:\n",
    "    obj_holder.append(relations(sentence))\n",
    "for obj in obj_holder:\n",
    "    obj.change_src(\"test\")\n",
    "    print(obj.text)\n",
    "    print(obj.outer_dict)"
   ]
  },
  {
   "cell_type": "code",
   "execution_count": null,
   "id": "da5502ef",
   "metadata": {},
   "outputs": [],
   "source": []
  }
 ],
 "metadata": {
  "kernelspec": {
   "display_name": "Python 3 (ipykernel)",
   "language": "python",
   "name": "python3"
  },
  "language_info": {
   "codemirror_mode": {
    "name": "ipython",
    "version": 3
   },
   "file_extension": ".py",
   "mimetype": "text/x-python",
   "name": "python",
   "nbconvert_exporter": "python",
   "pygments_lexer": "ipython3",
   "version": "3.9.12"
  }
 },
 "nbformat": 4,
 "nbformat_minor": 5
}
